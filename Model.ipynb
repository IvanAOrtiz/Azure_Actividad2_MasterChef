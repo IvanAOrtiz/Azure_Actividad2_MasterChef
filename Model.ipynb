{
 "cells": [
  {
   "cell_type": "code",
   "execution_count": 14,
   "metadata": {},
   "outputs": [
    {
     "data": {
      "text/plain": [
       "Index(['Bankrupt?', ' ROA(C) before interest and depreciation before interest',\n",
       "       ' ROA(A) before interest and % after tax',\n",
       "       ' ROA(B) before interest and depreciation after tax',\n",
       "       ' Operating Gross Margin', ' Realized Sales Gross Margin',\n",
       "       ' Operating Profit Rate', ' Pre-tax net Interest Rate',\n",
       "       ' After-tax net Interest Rate',\n",
       "       ' Non-industry income and expenditure/revenue',\n",
       "       ' Continuous interest rate (after tax)', ' Operating Expense Rate',\n",
       "       ' Research and development expense rate', ' Cash flow rate',\n",
       "       ' Interest-bearing debt interest rate', ' Tax rate (A)',\n",
       "       ' Net Value Per Share (B)', ' Net Value Per Share (A)',\n",
       "       ' Net Value Per Share (C)', ' Persistent EPS in the Last Four Seasons',\n",
       "       ' Cash Flow Per Share', ' Revenue Per Share (Yuan ¥)',\n",
       "       ' Operating Profit Per Share (Yuan ¥)',\n",
       "       ' Per Share Net profit before tax (Yuan ¥)',\n",
       "       ' Realized Sales Gross Profit Growth Rate',\n",
       "       ' Operating Profit Growth Rate', ' After-tax Net Profit Growth Rate',\n",
       "       ' Regular Net Profit Growth Rate', ' Continuous Net Profit Growth Rate',\n",
       "       ' Total Asset Growth Rate', ' Net Value Growth Rate',\n",
       "       ' Total Asset Return Growth Rate Ratio', ' Cash Reinvestment %',\n",
       "       ' Current Ratio', ' Quick Ratio', ' Interest Expense Ratio',\n",
       "       ' Total debt/Total net worth', ' Debt ratio %', ' Net worth/Assets',\n",
       "       ' Long-term fund suitability ratio (A)', ' Borrowing dependency',\n",
       "       ' Contingent liabilities/Net worth',\n",
       "       ' Operating profit/Paid-in capital',\n",
       "       ' Net profit before tax/Paid-in capital',\n",
       "       ' Inventory and accounts receivable/Net value', ' Total Asset Turnover',\n",
       "       ' Accounts Receivable Turnover', ' Average Collection Days',\n",
       "       ' Inventory Turnover Rate (times)', ' Fixed Assets Turnover Frequency',\n",
       "       ' Net Worth Turnover Rate (times)', ' Revenue per person',\n",
       "       ' Operating profit per person', ' Allocation rate per person',\n",
       "       ' Working Capital to Total Assets', ' Quick Assets/Total Assets',\n",
       "       ' Current Assets/Total Assets', ' Cash/Total Assets',\n",
       "       ' Quick Assets/Current Liability', ' Cash/Current Liability',\n",
       "       ' Current Liability to Assets', ' Operating Funds to Liability',\n",
       "       ' Inventory/Working Capital', ' Inventory/Current Liability',\n",
       "       ' Current Liabilities/Liability', ' Working Capital/Equity',\n",
       "       ' Current Liabilities/Equity', ' Long-term Liability to Current Assets',\n",
       "       ' Retained Earnings to Total Assets', ' Total income/Total expense',\n",
       "       ' Total expense/Assets', ' Current Asset Turnover Rate',\n",
       "       ' Quick Asset Turnover Rate', ' Working capitcal Turnover Rate',\n",
       "       ' Cash Turnover Rate', ' Cash Flow to Sales', ' Fixed Assets to Assets',\n",
       "       ' Current Liability to Liability', ' Current Liability to Equity',\n",
       "       ' Equity to Long-term Liability', ' Cash Flow to Total Assets',\n",
       "       ' Cash Flow to Liability', ' CFO to Assets', ' Cash Flow to Equity',\n",
       "       ' Current Liability to Current Assets', ' Liability-Assets Flag',\n",
       "       ' Net Income to Total Assets', ' Total assets to GNP price',\n",
       "       ' No-credit Interval', ' Gross Profit to Sales',\n",
       "       ' Net Income to Stockholder's Equity', ' Liability to Equity',\n",
       "       ' Degree of Financial Leverage (DFL)',\n",
       "       ' Interest Coverage Ratio (Interest expense to EBIT)',\n",
       "       ' Equity to Liability'],\n",
       "      dtype='object')"
      ]
     },
     "execution_count": 14,
     "metadata": {},
     "output_type": "execute_result"
    }
   ],
   "source": [
    "import kagglehub\n",
    "import pandas as pd\n",
    "data = pd.read_csv(\"DATOS_L.csv\")\n",
    "data.columns\n"
   ]
  },
  {
   "cell_type": "code",
   "execution_count": 15,
   "metadata": {},
   "outputs": [],
   "source": [
    "\n",
    "X = data.drop(columns=[\"Bankrupt?\"])\n",
    "y = data[\"Bankrupt?\"]\n"
   ]
  },
  {
   "cell_type": "code",
   "execution_count": null,
   "metadata": {},
   "outputs": [],
   "source": [
    "from sklearn.preprocessing import StandardScaler\n",
    "\n",
    "scaler = StandardScaler()\n",
    "X_scaled = scaler.fit_transform(X)\n"
   ]
  },
  {
   "cell_type": "code",
   "execution_count": 17,
   "metadata": {},
   "outputs": [
    {
     "data": {
      "image/png": "[encoded data removed]",
      "text/plain": [
       "<Figure size 800x500 with 1 Axes>"
      ]
     },
     "metadata": {},
     "output_type": "display_data"
    }
   ],
   "source": [
    "from sklearn.decomposition import PCA\n",
    "import matplotlib.pyplot as plt\n",
    "import numpy as np\n",
    "\n",
    "# Ajustamos PCA con todos los componentes\n",
    "pca = PCA()\n",
    "pca.fit(X_scaled)\n",
    "\n",
    "# Varianza acumulada\n",
    "explained_var = np.cumsum(pca.explained_variance_ratio_)\n",
    "\n",
    "# Gráfica de varianza explicada acumulada\n",
    "plt.figure(figsize=(8, 5))\n",
    "plt.plot(range(1, len(explained_var) + 1), explained_var, marker='o')\n",
    "plt.xlabel('Número de Componentes')\n",
    "plt.ylabel('Varianza Explicada Acumulada')\n",
    "plt.title('Selección del número óptimo de componentes PCA')\n",
    "plt.grid(True)\n",
    "plt.show()\n"
   ]
  },
  {
   "cell_type": "code",
   "execution_count": null,
   "metadata": {},
   "outputs": [
    {
     "name": "stdout",
     "output_type": "stream",
     "text": [
      "Número óptimo de componentes para explicar el 95% de la varianza: 53\n"
     ]
    }
   ],
   "source": [
    "# Ajustar PCA sin reducir aún\n",
    "pca = PCA()\n",
    "pca.fit(X_scaled)\n",
    "\n",
    "# Calcular varianza acumulada\n",
    "explained_var = np.cumsum(pca.explained_variance_ratio_)\n",
    "\n",
    "# Elegir el número de componentes que expliquen al menos el 95% de la varianza\n",
    "n_components_95 = np.argmax(explained_var >= 0.95) + 1  # +1 porque los índices empiezan en 0\n",
    "\n",
    "print(f\"Número óptimo de componentes para explicar el 95% de la varianza: {n_components_95}\")\n"
   ]
  },
  {
   "cell_type": "code",
   "execution_count": 19,
   "metadata": {},
   "outputs": [],
   "source": [
    "pca = PCA(n_components=53)\n",
    "X_pca = pca.fit_transform(X_scaled)\n"
   ]
  },
  {
   "cell_type": "code",
   "execution_count": 20,
   "metadata": {},
   "outputs": [
    {
     "name": "stdout",
     "output_type": "stream",
     "text": [
      "MSE: 0.03002115752055512\n",
      "R²: 0.16589394916054068\n"
     ]
    }
   ],
   "source": [
    "from sklearn.linear_model import LinearRegression\n",
    "from sklearn.model_selection import train_test_split\n",
    "from sklearn.metrics import mean_squared_error, r2_score\n",
    "\n",
    "# Dividir en train y test\n",
    "X_train, X_test, y_train, y_test = train_test_split(X_pca, y, test_size=0.2, random_state=42)\n",
    "\n",
    "# Entrenar el modelo\n",
    "model = LinearRegression()\n",
    "model.fit(X_train, y_train)\n",
    "\n",
    "# Evaluación\n",
    "y_pred = model.predict(X_test)\n",
    "\n",
    "print(\"MSE:\", mean_squared_error(y_test, y_pred))\n",
    "print(\"R²:\", r2_score(y_test, y_pred))\n"
   ]
  },
  {
   "cell_type": "markdown",
   "metadata": {},
   "source": [
    "EVALUATING. \n",
    "\n",
    "Esta parte debería también ir incluida en score.py"
   ]
  },
  {
   "cell_type": "code",
   "execution_count": 21,
   "metadata": {},
   "outputs": [],
   "source": [
    "import numpy as np\n",
    "\n",
    "def sigmoid(x):\n",
    "    return [1 / (1 + np.exp(-y)) for y in x]\n",
    "\n",
    "y_pred = sigmoid(y_pred)\n",
    "\n",
    "y_pred_sort = {i:y_pred[i] for i in range(len(y_pred))}\n",
    "y_pred_sort = dict(sorted(y_pred_sort.items(), key=lambda x: x[1], reverse=True))\n",
    "\n",
    "how_many_ones = y_test.value_counts()[1]\n",
    "\n",
    "one_predictions = list(y_pred_sort.keys())[:how_many_ones]\n",
    "\n",
    "final_preds = [1 if x in one_predictions else 0 for x in range(len(y_pred))]"
   ]
  },
  {
   "cell_type": "code",
   "execution_count": 22,
   "metadata": {},
   "outputs": [
    {
     "name": "stdout",
     "output_type": "stream",
     "text": [
      "              precision    recall  f1-score   support\n",
      "\n",
      "           0       0.97      0.97      0.97      1313\n",
      "           1       0.33      0.33      0.33        51\n",
      "\n",
      "    accuracy                           0.95      1364\n",
      "   macro avg       0.65      0.65      0.65      1364\n",
      "weighted avg       0.95      0.95      0.95      1364\n",
      "\n"
     ]
    }
   ],
   "source": [
    "from sklearn.metrics import classification_report\n",
    "\n",
    "print(classification_report(y_test, final_preds))"
   ]
  },
  {
   "cell_type": "code",
   "execution_count": 23,
   "metadata": {},
   "outputs": [
    {
     "name": "stdout",
     "output_type": "stream",
     "text": [
      "CÓMO PREDECIR CON ESTE MODELO:\n",
      "\n",
      " Paso 1.- Calcularlo con la regresión lineal.\n",
      " PASO 2.- Aplicarle sigmoide para acotarlo al intervalo [0,1].\n",
      " PASO 3.- Si el resultado es mayor a 0.5394936794490179 entonces predecir 1.\n",
      "          De lo contrario, predecir 0.\n"
     ]
    }
   ],
   "source": [
    "umbral = min([y_pred_sort[x] for x in one_predictions])\n",
    "\n",
    "print(f\"CÓMO PREDECIR CON ESTE MODELO:\\n\\n Paso 1.- Calcularlo con la regresión lineal.\\n PASO 2.- Aplicarle sigmoide para acotarlo al intervalo [0,1].\\n PASO 3.- Si el resultado es mayor a {umbral} entonces predecir 1.\\n          De lo contrario, predecir 0.\")\n",
    "\n",
    "\n",
    "import json\n",
    "\n",
    "umb = json.dumps({\"umbral\": [umbral]})\n",
    "file = open(\"umbral.json\", \"w\")\n",
    "file.write(umb)\n",
    "file.close()\n",
    "\n",
    "import pickle\n",
    "\n",
    "file = open('model.pkl', 'wb')\n",
    "pickle.dump(model, file)\n",
    "file.close()"
   ]
  },
  {
   "cell_type": "code",
   "execution_count": 31,
   "metadata": {},
   "outputs": [
    {
     "data": {
      "application/vnd.microsoft.datawrangler.viewer.v0+json": {
       "columns": [
        {
         "name": "index",
         "rawType": "int64",
         "type": "integer"
        },
        {
         "name": "0",
         "rawType": "float64",
         "type": "float"
        },
        {
         "name": "1",
         "rawType": "float64",
         "type": "float"
        },
        {
         "name": "2",
         "rawType": "float64",
         "type": "float"
        },
        {
         "name": "3",
         "rawType": "float64",
         "type": "float"
        },
        {
         "name": "4",
         "rawType": "float64",
         "type": "float"
        },
        {
         "name": "5",
         "rawType": "float64",
         "type": "float"
        },
        {
         "name": "6",
         "rawType": "float64",
         "type": "float"
        },
        {
         "name": "7",
         "rawType": "float64",
         "type": "float"
        },
        {
         "name": "8",
         "rawType": "float64",
         "type": "float"
        },
        {
         "name": "9",
         "rawType": "float64",
         "type": "float"
        },
        {
         "name": "10",
         "rawType": "float64",
         "type": "float"
        },
        {
         "name": "11",
         "rawType": "float64",
         "type": "float"
        },
        {
         "name": "12",
         "rawType": "float64",
         "type": "float"
        },
        {
         "name": "13",
         "rawType": "float64",
         "type": "float"
        },
        {
         "name": "14",
         "rawType": "float64",
         "type": "float"
        },
        {
         "name": "15",
         "rawType": "float64",
         "type": "float"
        },
        {
         "name": "16",
         "rawType": "float64",
         "type": "float"
        },
        {
         "name": "17",
         "rawType": "float64",
         "type": "float"
        },
        {
         "name": "18",
         "rawType": "float64",
         "type": "float"
        },
        {
         "name": "19",
         "rawType": "float64",
         "type": "float"
        },
        {
         "name": "20",
         "rawType": "float64",
         "type": "float"
        },
        {
         "name": "21",
         "rawType": "float64",
         "type": "float"
        },
        {
         "name": "22",
         "rawType": "float64",
         "type": "float"
        },
        {
         "name": "23",
         "rawType": "float64",
         "type": "float"
        },
        {
         "name": "24",
         "rawType": "float64",
         "type": "float"
        },
        {
         "name": "25",
         "rawType": "float64",
         "type": "float"
        },
        {
         "name": "26",
         "rawType": "float64",
         "type": "float"
        },
        {
         "name": "27",
         "rawType": "float64",
         "type": "float"
        },
        {
         "name": "28",
         "rawType": "float64",
         "type": "float"
        },
        {
         "name": "29",
         "rawType": "float64",
         "type": "float"
        },
        {
         "name": "30",
         "rawType": "float64",
         "type": "float"
        },
        {
         "name": "31",
         "rawType": "float64",
         "type": "float"
        },
        {
         "name": "32",
         "rawType": "float64",
         "type": "float"
        },
        {
         "name": "33",
         "rawType": "float64",
         "type": "float"
        },
        {
         "name": "34",
         "rawType": "float64",
         "type": "float"
        },
        {
         "name": "35",
         "rawType": "float64",
         "type": "float"
        },
        {
         "name": "36",
         "rawType": "float64",
         "type": "float"
        },
        {
         "name": "37",
         "rawType": "float64",
         "type": "float"
        },
        {
         "name": "38",
         "rawType": "float64",
         "type": "float"
        },
        {
         "name": "39",
         "rawType": "float64",
         "type": "float"
        },
        {
         "name": "40",
         "rawType": "float64",
         "type": "float"
        },
        {
         "name": "41",
         "rawType": "float64",
         "type": "float"
        },
        {
         "name": "42",
         "rawType": "float64",
         "type": "float"
        },
        {
         "name": "43",
         "rawType": "float64",
         "type": "float"
        },
        {
         "name": "44",
         "rawType": "float64",
         "type": "float"
        },
        {
         "name": "45",
         "rawType": "float64",
         "type": "float"
        },
        {
         "name": "46",
         "rawType": "float64",
         "type": "float"
        },
        {
         "name": "47",
         "rawType": "float64",
         "type": "float"
        },
        {
         "name": "48",
         "rawType": "float64",
         "type": "float"
        },
        {
         "name": "49",
         "rawType": "float64",
         "type": "float"
        },
        {
         "name": "50",
         "rawType": "float64",
         "type": "float"
        },
        {
         "name": "51",
         "rawType": "float64",
         "type": "float"
        },
        {
         "name": "52",
         "rawType": "float64",
         "type": "float"
        }
       ],
       "conversionMethod": "pd.DataFrame",
       "ref": "9d69799b-97a7-4d03-8cb5-a63247762ec2",
       "rows": [
        [
         "23",
         "1.1286634265386732",
         "-1.5952540462754412",
         "0.8580681418804552",
         "-1.941674444886316",
         "0.16487804822713076",
         "0.2379189775327141",
         "0.5146940793013278",
         "-0.32760568551912417",
         "-0.08210543082367634",
         "-0.9939846622061791",
         "0.11683157544083048",
         "-0.16606921839096658",
         "-0.3489111559402751",
         "0.2438110008081052",
         "-0.03573567300791577",
         "-0.47776407378716057",
         "0.3464561747513987",
         "0.0515648076423205",
         "-0.8305271267080688",
         "0.2989080066850566",
         "-0.5259211191448836",
         "-0.05048710657585437",
         "-1.1911358021391154",
         "-1.2355982571785298",
         "-0.11304417319588916",
         "0.3832225679341405",
         "0.3065658644968797",
         "0.14593521370615675",
         "-0.037053808205064695",
         "-0.4850081129204413",
         "0.41720886254584116",
         "-0.42311662222421104",
         "-0.049957815681848615",
         "0.17892593494843645",
         "0.22528092750283066",
         "-0.2808150394314976",
         "-0.4591808857050894",
         "0.016954558723124836",
         "-0.2846843307415418",
         "-0.7635266809556284",
         "0.5070068137045659",
         "-0.4572601810255496",
         "-0.21769951089627565",
         "-0.7898150027524368",
         "-0.3405224207337473",
         "0.10839562283969634",
         "-0.2610172088331611",
         "0.24464528824640164",
         "0.3574882763520152",
         "0.3455662913418963",
         "-0.397125687836591",
         "0.7516039284957493",
         "-0.61376796477834"
        ],
        [
         "300",
         "-1.690968152463657",
         "-1.5759628631637137",
         "-0.4569063518652831",
         "-0.6012971125289341",
         "-0.11206401107325659",
         "-0.32213210335334436",
         "-1.2315754261318335",
         "1.1803965881031464",
         "-1.209119567380512",
         "-0.307961285175448",
         "-0.06465699994887819",
         "0.05823624192386672",
         "1.0662939501148818",
         "-0.06913633910546352",
         "0.7717534246532899",
         "0.2085492654269769",
         "-0.7823410604153637",
         "-0.4078009053279018",
         "0.08167257321128354",
         "-0.07172398600289387",
         "-0.31725933761093517",
         "0.1611202679641218",
         "-0.9512825475613506",
         "-0.5772283892539325",
         "0.1671108137012467",
         "-0.06585939836994242",
         "-0.5392570264027479",
         "0.37203668007545415",
         "0.09448186140880838",
         "0.12439583063777815",
         "-0.6136892749893791",
         "-0.39182798333168317",
         "-0.16265390202966343",
         "0.24372621028843744",
         "-0.3182924320554288",
         "-0.8938761463036405",
         "-1.1630338000556568",
         "-0.3779825719313724",
         "-0.3506201846252895",
         "-0.799961437194576",
         "1.265695525185122",
         "-0.8399176081697124",
         "-0.4808117064668248",
         "-0.5939225678641503",
         "-0.3238437806042465",
         "0.10130831361799199",
         "-0.1701110501230849",
         "-0.3586018220919406",
         "-0.11239691064089466",
         "-0.1743777768368746",
         "1.0244739791459339",
         "-1.1238041113237427",
         "-0.36014033803970935"
        ],
        [
         "278",
         "-3.413149136254459",
         "0.4963343398759265",
         "1.6233648141232087",
         "2.327540578035022",
         "-0.6819554991050789",
         "2.068345614657263",
         "0.2856845614046336",
         "-1.332325273871765",
         "0.06992801832779637",
         "0.20597010547282835",
         "-0.6231350869816782",
         "-0.3534222475240985",
         "-0.8215283569804805",
         "0.48415638347833473",
         "-0.3620683200739449",
         "-0.7270279246465877",
         "0.3530357120883952",
         "-0.04136240203108824",
         "-0.7594368278059345",
         "0.442758767806804",
         "-0.22946377231778287",
         "1.188386298532287",
         "-1.1984855941998496",
         "-0.5289531182891928",
         "-0.27466032503237087",
         "0.029224827498864667",
         "0.3368067008422543",
         "-0.6752211878975349",
         "0.5207487085247676",
         "0.09284025991015997",
         "0.045104691460215764",
         "-0.7219482303657148",
         "-0.04363150683118406",
         "-0.9116033803085268",
         "-0.0649096395306768",
         "0.8697160667015398",
         "0.493464239258012",
         "-0.18704275537836837",
         "0.9145230665020334",
         "-0.3569715172769536",
         "-1.6737182158374553",
         "0.8830973052428808",
         "0.7470838502510584",
         "0.279353584524918",
         "-0.8495304169719053",
         "-0.6722717616783046",
         "-0.07652313541601484",
         "-0.23585013945945849",
         "-0.16809917758228682",
         "0.018724077622257636",
         "0.7047207136445102",
         "-0.4788558513316913",
         "0.46497340523680447"
        ],
        [
         "120",
         "-2.4754549108818127",
         "-1.3550496448937779",
         "2.5785456021459994",
         "2.7854717004590843",
         "-0.8845628299503417",
         "0.19108175621061177",
         "0.16895188411746268",
         "-0.6877755676432054",
         "0.10317195479343755",
         "0.08944360833831466",
         "-0.493807751832378",
         "-0.3462485596775017",
         "0.5539134244469908",
         "0.3326437855834053",
         "0.04472551019646118",
         "-0.3414564394808999",
         "0.31781925709816505",
         "-0.05885895638985",
         "-0.31158472268523607",
         "0.25419040196584175",
         "-0.25042366167931046",
         "0.23361370350524",
         "-0.9766267071393268",
         "-1.2592108073536432",
         "-0.25561096471744016",
         "0.250185472855373",
         "0.3534525863846417",
         "-0.30550410083725904",
         "0.36494409296276764",
         "-0.07516178606533136",
         "0.569004000589237",
         "-0.17943854037501655",
         "-0.031901703992935966",
         "-0.20948004695090314",
         "-0.07231549859575231",
         "0.18974064196593526",
         "0.15177334436782458",
         "0.10267379120628614",
         "0.5792358925811509",
         "-0.8246157626368538",
         "-0.8827242220792368",
         "0.29292420607222297",
         "0.052969440466656074",
         "-0.37860183824831417",
         "0.25964820488319673",
         "-0.30897476248842154",
         "0.07011779223507096",
         "-0.14956403372533608",
         "-0.08637793270010508",
         "-0.034182215145611726",
         "0.6801115964742828",
         "-0.4755251821912685",
         "0.03181197314880253"
        ],
        [
         "800",
         "1.0452056913096193",
         "0.8092153180746561",
         "1.1842827448983844",
         "1.8884300960314062",
         "-0.3213482987456986",
         "1.1063991476664232",
         "0.6433789940614825",
         "-1.1567346151774194",
         "0.7055743307303233",
         "0.9085140719889179",
         "-0.28812363349159464",
         "-0.2578986429845254",
         "-0.8645263155121147",
         "0.19809637743398562",
         "-0.30672099871276515",
         "-0.013014973038152878",
         "-0.024004116000071678",
         "-0.01893899495776657",
         "-0.4754468408121042",
         "0.08054003240927712",
         "-0.09110831055278629",
         "1.640587997148481",
         "0.1682455716123361",
         "1.1420061930106788",
         "-0.012241546672882164",
         "-0.7138227253234001",
         "-0.3454708460134127",
         "-0.2955762506760434",
         "0.2570062000016656",
         "-0.04041910869249118",
         "-0.7659547569113132",
         "-1.0774044692479734",
         "-0.15521183682255874",
         "-1.0203404964933132",
         "-0.5741025154451437",
         "0.15442873026906634",
         "-0.31756310543218813",
         "-0.6965614783730485",
         "-0.9270393641646277",
         "0.08890171615111123",
         "0.34283703469074966",
         "-0.33828316123570024",
         "-0.299454182709777",
         "-1.2007720369044947",
         "-1.3789446490439357",
         "-1.127354305758243",
         "-0.797888967849104",
         "-0.11594695549263746",
         "-0.06617456999304437",
         "0.2934335565123337",
         "0.27259119290959544",
         "0.03232543235901426",
         "0.4769154162382067"
        ]
       ],
       "shape": {
        "columns": 53,
        "rows": 5
       }
      },
      "text/html": [
       "<div>\n",
       "<style scoped>\n",
       "    .dataframe tbody tr th:only-of-type {\n",
       "        vertical-align: middle;\n",
       "    }\n",
       "\n",
       "    .dataframe tbody tr th {\n",
       "        vertical-align: top;\n",
       "    }\n",
       "\n",
       "    .dataframe thead th {\n",
       "        text-align: right;\n",
       "    }\n",
       "</style>\n",
       "<table border=\"1\" class=\"dataframe\">\n",
       "  <thead>\n",
       "    <tr style=\"text-align: right;\">\n",
       "      <th></th>\n",
       "      <th>0</th>\n",
       "      <th>1</th>\n",
       "      <th>2</th>\n",
       "      <th>3</th>\n",
       "      <th>4</th>\n",
       "      <th>5</th>\n",
       "      <th>6</th>\n",
       "      <th>7</th>\n",
       "      <th>8</th>\n",
       "      <th>9</th>\n",
       "      <th>...</th>\n",
       "      <th>43</th>\n",
       "      <th>44</th>\n",
       "      <th>45</th>\n",
       "      <th>46</th>\n",
       "      <th>47</th>\n",
       "      <th>48</th>\n",
       "      <th>49</th>\n",
       "      <th>50</th>\n",
       "      <th>51</th>\n",
       "      <th>52</th>\n",
       "    </tr>\n",
       "  </thead>\n",
       "  <tbody>\n",
       "    <tr>\n",
       "      <th>23</th>\n",
       "      <td>1.128663</td>\n",
       "      <td>-1.595254</td>\n",
       "      <td>0.858068</td>\n",
       "      <td>-1.941674</td>\n",
       "      <td>0.164878</td>\n",
       "      <td>0.237919</td>\n",
       "      <td>0.514694</td>\n",
       "      <td>-0.327606</td>\n",
       "      <td>-0.082105</td>\n",
       "      <td>-0.993985</td>\n",
       "      <td>...</td>\n",
       "      <td>-0.789815</td>\n",
       "      <td>-0.340522</td>\n",
       "      <td>0.108396</td>\n",
       "      <td>-0.261017</td>\n",
       "      <td>0.244645</td>\n",
       "      <td>0.357488</td>\n",
       "      <td>0.345566</td>\n",
       "      <td>-0.397126</td>\n",
       "      <td>0.751604</td>\n",
       "      <td>-0.613768</td>\n",
       "    </tr>\n",
       "    <tr>\n",
       "      <th>300</th>\n",
       "      <td>-1.690968</td>\n",
       "      <td>-1.575963</td>\n",
       "      <td>-0.456906</td>\n",
       "      <td>-0.601297</td>\n",
       "      <td>-0.112064</td>\n",
       "      <td>-0.322132</td>\n",
       "      <td>-1.231575</td>\n",
       "      <td>1.180397</td>\n",
       "      <td>-1.209120</td>\n",
       "      <td>-0.307961</td>\n",
       "      <td>...</td>\n",
       "      <td>-0.593923</td>\n",
       "      <td>-0.323844</td>\n",
       "      <td>0.101308</td>\n",
       "      <td>-0.170111</td>\n",
       "      <td>-0.358602</td>\n",
       "      <td>-0.112397</td>\n",
       "      <td>-0.174378</td>\n",
       "      <td>1.024474</td>\n",
       "      <td>-1.123804</td>\n",
       "      <td>-0.360140</td>\n",
       "    </tr>\n",
       "    <tr>\n",
       "      <th>278</th>\n",
       "      <td>-3.413149</td>\n",
       "      <td>0.496334</td>\n",
       "      <td>1.623365</td>\n",
       "      <td>2.327541</td>\n",
       "      <td>-0.681955</td>\n",
       "      <td>2.068346</td>\n",
       "      <td>0.285685</td>\n",
       "      <td>-1.332325</td>\n",
       "      <td>0.069928</td>\n",
       "      <td>0.205970</td>\n",
       "      <td>...</td>\n",
       "      <td>0.279354</td>\n",
       "      <td>-0.849530</td>\n",
       "      <td>-0.672272</td>\n",
       "      <td>-0.076523</td>\n",
       "      <td>-0.235850</td>\n",
       "      <td>-0.168099</td>\n",
       "      <td>0.018724</td>\n",
       "      <td>0.704721</td>\n",
       "      <td>-0.478856</td>\n",
       "      <td>0.464973</td>\n",
       "    </tr>\n",
       "    <tr>\n",
       "      <th>120</th>\n",
       "      <td>-2.475455</td>\n",
       "      <td>-1.355050</td>\n",
       "      <td>2.578546</td>\n",
       "      <td>2.785472</td>\n",
       "      <td>-0.884563</td>\n",
       "      <td>0.191082</td>\n",
       "      <td>0.168952</td>\n",
       "      <td>-0.687776</td>\n",
       "      <td>0.103172</td>\n",
       "      <td>0.089444</td>\n",
       "      <td>...</td>\n",
       "      <td>-0.378602</td>\n",
       "      <td>0.259648</td>\n",
       "      <td>-0.308975</td>\n",
       "      <td>0.070118</td>\n",
       "      <td>-0.149564</td>\n",
       "      <td>-0.086378</td>\n",
       "      <td>-0.034182</td>\n",
       "      <td>0.680112</td>\n",
       "      <td>-0.475525</td>\n",
       "      <td>0.031812</td>\n",
       "    </tr>\n",
       "    <tr>\n",
       "      <th>800</th>\n",
       "      <td>1.045206</td>\n",
       "      <td>0.809215</td>\n",
       "      <td>1.184283</td>\n",
       "      <td>1.888430</td>\n",
       "      <td>-0.321348</td>\n",
       "      <td>1.106399</td>\n",
       "      <td>0.643379</td>\n",
       "      <td>-1.156735</td>\n",
       "      <td>0.705574</td>\n",
       "      <td>0.908514</td>\n",
       "      <td>...</td>\n",
       "      <td>-1.200772</td>\n",
       "      <td>-1.378945</td>\n",
       "      <td>-1.127354</td>\n",
       "      <td>-0.797889</td>\n",
       "      <td>-0.115947</td>\n",
       "      <td>-0.066175</td>\n",
       "      <td>0.293434</td>\n",
       "      <td>0.272591</td>\n",
       "      <td>0.032325</td>\n",
       "      <td>0.476915</td>\n",
       "    </tr>\n",
       "  </tbody>\n",
       "</table>\n",
       "<p>5 rows × 53 columns</p>\n",
       "</div>"
      ],
      "text/plain": [
       "           0         1         2         3         4         5         6   \\\n",
       "23   1.128663 -1.595254  0.858068 -1.941674  0.164878  0.237919  0.514694   \n",
       "300 -1.690968 -1.575963 -0.456906 -0.601297 -0.112064 -0.322132 -1.231575   \n",
       "278 -3.413149  0.496334  1.623365  2.327541 -0.681955  2.068346  0.285685   \n",
       "120 -2.475455 -1.355050  2.578546  2.785472 -0.884563  0.191082  0.168952   \n",
       "800  1.045206  0.809215  1.184283  1.888430 -0.321348  1.106399  0.643379   \n",
       "\n",
       "           7         8         9   ...        43        44        45  \\\n",
       "23  -0.327606 -0.082105 -0.993985  ... -0.789815 -0.340522  0.108396   \n",
       "300  1.180397 -1.209120 -0.307961  ... -0.593923 -0.323844  0.101308   \n",
       "278 -1.332325  0.069928  0.205970  ...  0.279354 -0.849530 -0.672272   \n",
       "120 -0.687776  0.103172  0.089444  ... -0.378602  0.259648 -0.308975   \n",
       "800 -1.156735  0.705574  0.908514  ... -1.200772 -1.378945 -1.127354   \n",
       "\n",
       "           46        47        48        49        50        51        52  \n",
       "23  -0.261017  0.244645  0.357488  0.345566 -0.397126  0.751604 -0.613768  \n",
       "300 -0.170111 -0.358602 -0.112397 -0.174378  1.024474 -1.123804 -0.360140  \n",
       "278 -0.076523 -0.235850 -0.168099  0.018724  0.704721 -0.478856  0.464973  \n",
       "120  0.070118 -0.149564 -0.086378 -0.034182  0.680112 -0.475525  0.031812  \n",
       "800 -0.797889 -0.115947 -0.066175  0.293434  0.272591  0.032325  0.476915  \n",
       "\n",
       "[5 rows x 53 columns]"
      ]
     },
     "execution_count": 31,
     "metadata": {},
     "output_type": "execute_result"
    }
   ],
   "source": [
    "# Crear csv para probar modelo\n",
    "rand_rows = [23, 300, 278, 120, 800]\n",
    "testcsv = pd.DataFrame(X_test).iloc[rand_rows, :]\n",
    "testcsv"
   ]
  },
  {
   "cell_type": "code",
   "execution_count": 32,
   "metadata": {},
   "outputs": [],
   "source": [
    "testcsv.to_csv('testapi.csv', index=False)"
   ]
  },
  {
   "cell_type": "code",
   "execution_count": 33,
   "metadata": {},
   "outputs": [
    {
     "name": "stderr",
     "output_type": "stream",
     "text": [
      "c:\\Users\\Iván Ortiz\\AppData\\Local\\Programs\\Python\\Python39\\lib\\site-packages\\sklearn\\base.py:458: UserWarning: X has feature names, but LinearRegression was fitted without feature names\n",
      "  warnings.warn(\n"
     ]
    },
    {
     "data": {
      "text/plain": [
       "array([-0.02865607,  0.01397103,  0.11942301,  0.05073338,  0.06947542])"
      ]
     },
     "execution_count": 33,
     "metadata": {},
     "output_type": "execute_result"
    }
   ],
   "source": [
    "model = pickle.load(open('model.pkl','rb'))\n",
    "df_testAPI = pd.read_csv('testapi.csv')\n",
    "pred = model.predict(df_testAPI)\n",
    "pred"
   ]
  }
 ],
 "metadata": {
  "kernelspec": {
   "display_name": "Python 3",
   "language": "python",
   "name": "python3"
  },
  "language_info": {
   "codemirror_mode": {
    "name": "ipython",
    "version": 3
   },
   "file_extension": ".py",
   "mimetype": "text/x-python",
   "name": "python",
   "nbconvert_exporter": "python",
   "pygments_lexer": "ipython3",
   "version": "3.9.12"
  }
 },
 "nbformat": 4,
 "nbformat_minor": 2
}
